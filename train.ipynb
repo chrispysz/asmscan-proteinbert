{
 "cells": [
  {
   "cell_type": "code",
   "metadata": {},
   "source": [
    "BENCHMARK_NAME = 'bass_pb40'\n",
    "import os\n",
    "\n",
    "import tensorflow as tf\n",
    "\n",
    "print(tf.__version__)\n",
    "print(tf.config.list_physical_devices('GPU'))\n",
    "import pandas as pd\n",
    "from tensorflow import keras\n",
    "from proteinbert import OutputType, OutputSpec, FinetuningModelGenerator, load_pretrained_model, finetune\n",
    "from proteinbert.conv_and_global_attention_model import get_model_with_hidden_layers_as_outputs\n",
    "\n",
    "# A local (non-global) binary output\n",
    "OUTPUT_TYPE = OutputType(False, 'binary')\n",
    "UNIQUE_LABELS = [0, 1]\n",
    "OUTPUT_SPEC = OutputSpec(OUTPUT_TYPE, UNIQUE_LABELS)"
   ],
   "outputs": [],
   "execution_count": null
  },
  {
   "cell_type": "code",
   "metadata": {},
   "source": [
    "# from numbers from 1 to 6\n",
    "for i in range(1, 7):\n",
    "    model_no = i\n",
    "    BENCHMARKS_DIR = './data(train+val)/prepared/' + str(model_no)\n",
    "\n",
    "    train_set_file_path = os.path.join(BENCHMARKS_DIR, '%s.train.csv' % BENCHMARK_NAME)\n",
    "    valid_set_file_path = os.path.join(BENCHMARKS_DIR, '%s.val.csv' % BENCHMARK_NAME)\n",
    "    train_set = pd.read_csv(train_set_file_path).dropna().drop_duplicates()\n",
    "    valid_set = pd.read_csv(valid_set_file_path).dropna().drop_duplicates()\n",
    "\n",
    "    print(f'{len(train_set)} training set records, {len(valid_set)} validation set records.')\n",
    "\n",
    "    # Loading the pre-trained model and fine-tuning it on the loaded dataset\n",
    "    pretrained_model_generator, input_encoder = load_pretrained_model()\n",
    "\n",
    "    # get_model_with_hidden_layers_as_outputs gives the model output access to the hidden layers (on top of the output)\n",
    "    model_generator = FinetuningModelGenerator(pretrained_model_generator, OUTPUT_SPEC,\n",
    "                                               pretraining_model_manipulation_function= \\\n",
    "                                                   get_model_with_hidden_layers_as_outputs, dropout_rate=0.5)\n",
    "\n",
    "    training_callbacks = [\n",
    "        keras.callbacks.ReduceLROnPlateau(patience=1, factor=0.25, min_lr=1e-05, verbose=1),\n",
    "        keras.callbacks.EarlyStopping(patience=3, restore_best_weights=True),\n",
    "        keras.callbacks.TensorBoard(log_dir='./logs', histogram_freq=1, update_freq=100)\n",
    "    ]\n",
    "\n",
    "    finetune(model_generator, input_encoder, OUTPUT_SPEC, train_set['seq'], train_set['label'], valid_set['seq'],\n",
    "             valid_set['label'], \\\n",
    "             seq_len=42, batch_size=64, max_epochs_per_stage=40, lr=1e-04, begin_with_frozen_pretrained_layers=True, \\\n",
    "             lr_with_frozen_pretrained_layers=1e-02, n_final_epochs=0, final_seq_len=1024, final_lr=5e-06,\n",
    "             callbacks=training_callbacks)\n",
    "\n",
    "    model = model_generator.create_model(seq_len=42)\n",
    "\n",
    "    model.save(\"./models/\" + str(model_no))"
   ],
   "outputs": [],
   "execution_count": null
  }
 ],
 "metadata": {
  "kernelspec": {
   "display_name": "Python 3 (ipykernel)",
   "language": "python",
   "name": "python3"
  },
  "language_info": {
   "codemirror_mode": {
    "name": "ipython",
    "version": 3
   },
   "file_extension": ".py",
   "mimetype": "text/x-python",
   "name": "python",
   "nbconvert_exporter": "python",
   "pygments_lexer": "ipython3",
   "version": "3.8.19"
  }
 },
 "nbformat": 4,
 "nbformat_minor": 4
}

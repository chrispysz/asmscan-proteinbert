{
 "cells": [
  {
   "metadata": {},
   "cell_type": "markdown",
   "source": "### Prepare test sets",
   "id": "905f0fbc5ef8b9c0"
  },
  {
   "cell_type": "code",
   "id": "initial_id",
   "metadata": {
    "collapsed": true,
    "ExecuteTime": {
     "end_time": "2024-04-28T21:39:51.425875Z",
     "start_time": "2024-04-28T21:39:49.233743Z"
    }
   },
   "source": [
    "import pandas as pd\n",
    "from Bio import SeqIO\n",
    "import random\n",
    "\n",
    "FOLD_NO = \"6\"\n",
    "\n",
    "\n",
    "def read_fasta(file_path, label):\n",
    "    \"\"\"Read a FASTA file and return a list of (sequence, label) tuples.\"\"\"\n",
    "    sequences = []\n",
    "    with open(file_path, \"r\") as fasta_file:\n",
    "        for record in SeqIO.parse(fasta_file, \"fasta\"):\n",
    "            sequences.append((str(record.seq), label))\n",
    "    return sequences\n",
    "\n",
    "\n",
    "def combine_and_shuffle(sequences1, sequences2):\n",
    "    \"\"\"Combine two lists of sequences, shuffle them, and return a DataFrame.\"\"\"\n",
    "    combined = sequences1 + sequences2\n",
    "    random.shuffle(combined)\n",
    "    return pd.DataFrame(combined, columns=['seq', 'label'])\n",
    "\n",
    "\n",
    "# Paths to the FASTA files\n",
    "path_negative_train = \"data(train+val)/negative/PB40/PB40_1z20_clu50_trn\" + FOLD_NO + \".fa\"\n",
    "path_positive_train = \"data(train+val)/positive/bass_motif/pad/bass_ctm_motif_trn\" + FOLD_NO + \".fa\"\n",
    "path_negative_val = \"data(train+val)/negative/PB40/PB40_1z20_clu50_val\" + FOLD_NO + \".fa\"\n",
    "path_positive_val = \"data(train+val)/positive/bass_motif/pad/bass_ctm_motif_val\" + FOLD_NO + \".fa\"\n",
    "path_negative_test = \"data(train+val)/negative/PB40/PB40_1z20_clu50_val\" + FOLD_NO + \".fa\"\n",
    "path_positive_test = \"data(train+val)/positive/bass_motif/bass_ntm_motif_test.fa\"\n",
    "\n",
    "# Read sequences and assign labels\n",
    "negative_sequences_train = read_fasta(path_negative_train, 0)\n",
    "positive_sequences_train = read_fasta(path_positive_train, 1)\n",
    "negative_sequences_val = read_fasta(path_negative_val, 0)\n",
    "positive_sequences_val = read_fasta(path_positive_val, 1)\n",
    "\n",
    "# Combine and shuffle datasets\n",
    "shuffled_data_train = combine_and_shuffle(negative_sequences_train, positive_sequences_train)\n",
    "shuffled_data_val = combine_and_shuffle(negative_sequences_val, positive_sequences_val)\n",
    "\n",
    "# Save to CSV\n",
    "shuffled_data_train.to_csv(\"data(train+val)/prepared/\" + FOLD_NO + \"/bass_pb40.train.csv\", index=False)\n",
    "shuffled_data_val.to_csv(\"data(train+val)/prepared/\" + FOLD_NO + \"/bass_pb40.val.csv\", index=False)"
   ],
   "outputs": [],
   "execution_count": 6
  },
  {
   "metadata": {},
   "cell_type": "code",
   "outputs": [],
   "execution_count": null,
   "source": "",
   "id": "5138871c8d3d1ed3"
  }
 ],
 "metadata": {
  "kernelspec": {
   "display_name": "Python 3",
   "language": "python",
   "name": "python3"
  },
  "language_info": {
   "codemirror_mode": {
    "name": "ipython",
    "version": 2
   },
   "file_extension": ".py",
   "mimetype": "text/x-python",
   "name": "python",
   "nbconvert_exporter": "python",
   "pygments_lexer": "ipython2",
   "version": "2.7.6"
  }
 },
 "nbformat": 4,
 "nbformat_minor": 5
}
